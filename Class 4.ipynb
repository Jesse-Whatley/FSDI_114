{
 "cells": [
  {
   "cell_type": "code",
   "execution_count": 1,
   "id": "603b26c5-a91e-4dee-9065-e84c1b3d7052",
   "metadata": {},
   "outputs": [
    {
     "name": "stdout",
     "output_type": "stream",
     "text": [
      "Help on list object:\n",
      "\n",
      "class list(object)\n",
      " |  list(iterable=(), /)\n",
      " |  \n",
      " |  Built-in mutable sequence.\n",
      " |  \n",
      " |  If no argument is given, the constructor creates a new empty list.\n",
      " |  The argument must be an iterable if specified.\n",
      " |  \n",
      " |  Methods defined here:\n",
      " |  \n",
      " |  __add__(self, value, /)\n",
      " |      Return self+value.\n",
      " |  \n",
      " |  __contains__(self, key, /)\n",
      " |      Return key in self.\n",
      " |  \n",
      " |  __delitem__(self, key, /)\n",
      " |      Delete self[key].\n",
      " |  \n",
      " |  __eq__(self, value, /)\n",
      " |      Return self==value.\n",
      " |  \n",
      " |  __ge__(self, value, /)\n",
      " |      Return self>=value.\n",
      " |  \n",
      " |  __getattribute__(self, name, /)\n",
      " |      Return getattr(self, name).\n",
      " |  \n",
      " |  __getitem__(...)\n",
      " |      x.__getitem__(y) <==> x[y]\n",
      " |  \n",
      " |  __gt__(self, value, /)\n",
      " |      Return self>value.\n",
      " |  \n",
      " |  __iadd__(self, value, /)\n",
      " |      Implement self+=value.\n",
      " |  \n",
      " |  __imul__(self, value, /)\n",
      " |      Implement self*=value.\n",
      " |  \n",
      " |  __init__(self, /, *args, **kwargs)\n",
      " |      Initialize self.  See help(type(self)) for accurate signature.\n",
      " |  \n",
      " |  __iter__(self, /)\n",
      " |      Implement iter(self).\n",
      " |  \n",
      " |  __le__(self, value, /)\n",
      " |      Return self<=value.\n",
      " |  \n",
      " |  __len__(self, /)\n",
      " |      Return len(self).\n",
      " |  \n",
      " |  __lt__(self, value, /)\n",
      " |      Return self<value.\n",
      " |  \n",
      " |  __mul__(self, value, /)\n",
      " |      Return self*value.\n",
      " |  \n",
      " |  __ne__(self, value, /)\n",
      " |      Return self!=value.\n",
      " |  \n",
      " |  __repr__(self, /)\n",
      " |      Return repr(self).\n",
      " |  \n",
      " |  __reversed__(self, /)\n",
      " |      Return a reverse iterator over the list.\n",
      " |  \n",
      " |  __rmul__(self, value, /)\n",
      " |      Return value*self.\n",
      " |  \n",
      " |  __setitem__(self, key, value, /)\n",
      " |      Set self[key] to value.\n",
      " |  \n",
      " |  __sizeof__(self, /)\n",
      " |      Return the size of the list in memory, in bytes.\n",
      " |  \n",
      " |  append(self, object, /)\n",
      " |      Append object to the end of the list.\n",
      " |  \n",
      " |  clear(self, /)\n",
      " |      Remove all items from list.\n",
      " |  \n",
      " |  copy(self, /)\n",
      " |      Return a shallow copy of the list.\n",
      " |  \n",
      " |  count(self, value, /)\n",
      " |      Return number of occurrences of value.\n",
      " |  \n",
      " |  extend(self, iterable, /)\n",
      " |      Extend list by appending elements from the iterable.\n",
      " |  \n",
      " |  index(self, value, start=0, stop=9223372036854775807, /)\n",
      " |      Return first index of value.\n",
      " |      \n",
      " |      Raises ValueError if the value is not present.\n",
      " |  \n",
      " |  insert(self, index, object, /)\n",
      " |      Insert object before index.\n",
      " |  \n",
      " |  pop(self, index=-1, /)\n",
      " |      Remove and return item at index (default last).\n",
      " |      \n",
      " |      Raises IndexError if list is empty or index is out of range.\n",
      " |  \n",
      " |  remove(self, value, /)\n",
      " |      Remove first occurrence of value.\n",
      " |      \n",
      " |      Raises ValueError if the value is not present.\n",
      " |  \n",
      " |  reverse(self, /)\n",
      " |      Reverse *IN PLACE*.\n",
      " |  \n",
      " |  sort(self, /, *, key=None, reverse=False)\n",
      " |      Sort the list in ascending order and return None.\n",
      " |      \n",
      " |      The sort is in-place (i.e. the list itself is modified) and stable (i.e. the\n",
      " |      order of two equal elements is maintained).\n",
      " |      \n",
      " |      If a key function is given, apply it once to each list item and sort them,\n",
      " |      ascending or descending, according to their function values.\n",
      " |      \n",
      " |      The reverse flag can be set to sort in descending order.\n",
      " |  \n",
      " |  ----------------------------------------------------------------------\n",
      " |  Class methods defined here:\n",
      " |  \n",
      " |  __class_getitem__(...) from builtins.type\n",
      " |      See PEP 585\n",
      " |  \n",
      " |  ----------------------------------------------------------------------\n",
      " |  Static methods defined here:\n",
      " |  \n",
      " |  __new__(*args, **kwargs) from builtins.type\n",
      " |      Create and return a new object.  See help(type) for accurate signature.\n",
      " |  \n",
      " |  ----------------------------------------------------------------------\n",
      " |  Data and other attributes defined here:\n",
      " |  \n",
      " |  __hash__ = None\n",
      "\n"
     ]
    }
   ],
   "source": [
    "help([])"
   ]
  },
  {
   "cell_type": "markdown",
   "id": "bf14435e-e770-4bc1-a5a9-c4f81da82559",
   "metadata": {},
   "source": [
    "# Problem 1 \n",
    "\n",
    "## Given what we learned on class 3, implement the Doubly Linked List Class\n",
    "\n",
    "### Criteria\n",
    "1. The DoublyLinkedList class must have an embedded Node class.\n",
    "2. The append operationmust be supported.\n",
    "3. The inser operation must be supported (remember, this inserts before a target index).\n",
    "4. The remove operation must be supported.\n",
    "5. the __str__ method mustdispaly the list exactly like python lists are rendered.\n",
    "6. The index operation must be supported (first instance of value or ValueError if not found).\n"
   ]
  },
  {
   "cell_type": "code",
   "execution_count": 2,
   "id": "cc708003-7203-45a0-a9b6-3cac40345236",
   "metadata": {},
   "outputs": [],
   "source": [
    "class DoublyLinkedList:\n",
    "    class __Node:\n",
    "        def __init__(self, data):\n",
    "            self.data = data\n",
    "            self.next = None\n",
    "            self.prev = None\n",
    "\n",
    "    def __init__(self):\n",
    "        self.head = None\n",
    "        self.tail = None\n",
    "\n",
    "    def append(self, value):\n",
    "        new_node = self.__Node(value)\n",
    "\n",
    "        if not self.head:\n",
    "            self.head = new_node\n",
    "            self.tail = new_node\n",
    "        else:\n",
    "            self.tail.next = new_node\n",
    "            new_node.prev = new_node\n",
    "            self.tail = new_node\n",
    "\n",
    "    def insert(self, index, value):\n",
    "        new_node = self.__Node(value)\n",
    "\n",
    "        if not self.head:\n",
    "            return self.append(value)\n",
    "\n",
    "        if index <= 0:\n",
    "            new_node.next = self.head\n",
    "            self.head.prev = new_node\n",
    "            if self.head is None:\n",
    "                self.head = new_node\n",
    "            else:\n",
    "                current = self.head\n",
    "                count = 0\n",
    "\n",
    "                while count != index:\n",
    "                    if current.next:\n",
    "                        current = current.next\n",
    "                        count += 1\n",
    "                    else:\n",
    "                        return self.append(value)\n",
    "\n",
    "                print(value)\n",
    "                print(\"Prev\", current.prev.data)\n",
    "                prev = current.prev\n",
    "\n",
    "                new_node.next = current\n",
    "                new_node.prev = prev\n",
    "                current.prev.next = new_node\n",
    "                prev.next = node_node\n",
    "\n",
    "    #def remove(self):\n",
    "\n",
    "    def __str__(self):\n",
    "        out = \"[\"\n",
    "        current = self.head\n",
    "\n",
    "        if current:\n",
    "            out += \"%s\" % current.data\n",
    "            current = current.next\n",
    "            while current:\n",
    "                out += \", %s\" % current.data\n",
    "                current = current.next\n",
    "        out += \"]\"\n",
    "        return out"
   ]
  },
  {
   "cell_type": "markdown",
   "id": "918d59cb-ebf0-4729-a47c-edaab015085e",
   "metadata": {},
   "source": [
    "# Recursive functions\n",
    "\n",
    "1. A recrursive function is a function that calls itself at least once.\n",
    "2. Usually, these will have exit conditions, often known as the \"base case\" which represents what we know to be absolutely true about a problem.\n",
    "3. "
   ]
  },
  {
   "cell_type": "code",
   "execution_count": 5,
   "id": "d0bec202-7160-45ed-94d8-890d4707816f",
   "metadata": {},
   "outputs": [
    {
     "data": {
      "text/plain": [
       "120"
      ]
     },
     "execution_count": 5,
     "metadata": {},
     "output_type": "execute_result"
    }
   ],
   "source": [
    "# A simple example\n",
    "\n",
    "# The factorial of a number, n, is the product of all the preceding numbers multiplied by each other.\n",
    "# example: 5! = 5x4x3x2x1\n",
    "# Another way to represent that, which highlights its reclusive nature is 5! = 5x4!\n",
    "\n",
    "# 0! = 1\n",
    "\n",
    "def fact(n):\n",
    "    if n == 0:             # base case --  we know this is absolutely true\n",
    "        return 1\n",
    "    return n*fact(n-1)     # recursive case -- the function calls itself when the base is not reached \n",
    "\n",
    "fact(5)\n"
   ]
  },
  {
   "cell_type": "code",
   "execution_count": null,
   "id": "bdde7f67-1a10-464c-be9f-58a37e1ec7ca",
   "metadata": {},
   "outputs": [],
   "source": [
    "# A recursive fuction that presents problems to us.\n",
    "\n",
    "# 0, 1, 1, 2, 3, 5, 13, 21\n",
    "\n",
    "# Yes, thats nice but what is fibonacci of 50\n",
    "\n",
    "# F0 = 0\n",
    "# F1 = 1\n",
    "# Fn = F(n-1) + F(n-2)\n",
    "\n",
    "# For this example, we'll make use of lru_cache to improve worst case time complexisity to O(n) from O(nlogn)\n",
    "from functools import lru_cache\n",
    "\n",
    "@lru_cache\n",
    "def fib(n):\n",
    "    if n < 2:\n",
    "        return n \n",
    "    return fib(n-1) + fib(n-2)"
   ]
  },
  {
   "cell_type": "code",
   "execution_count": 7,
   "id": "14ced320-b238-4643-b175-514271f6912a",
   "metadata": {},
   "outputs": [
    {
     "data": {
      "text/plain": [
       "139423224561697880139724382870407283950070256587697307264108962948325571622863290691557658876222521294125"
      ]
     },
     "execution_count": 7,
     "metadata": {},
     "output_type": "execute_result"
    }
   ],
   "source": [
    "fib(500)"
   ]
  },
  {
   "cell_type": "markdown",
   "id": "4473b7e6-a990-4733-9044-89394e77b770",
   "metadata": {},
   "source": [
    "# Hash Tables\n",
    "A hash table is a collection of items which are stored in such a wayas to make it easier to find them later.\n",
    "\n",
    "## Criteria\n",
    "Each position in a hash table, typically referred to as `slots`, can hold an item and is named by an integer value staring at 0.\n",
    "\n",
    "## Example\n",
    "If we have a slot named 0, a slot named 1 and a slot named 2, we can store data in these slots through the use of a `hashing function`.\n",
    "\n",
    "## Note\n",
    "Initially, hash table slots are `empty`."
   ]
  },
  {
   "cell_type": "code",
   "execution_count": 9,
   "id": "72d42c75-f702-4ea1-9a09-ab138b8cf606",
   "metadata": {},
   "outputs": [
    {
     "name": "stdout",
     "output_type": "stream",
     "text": [
      "[None, None, None, None, None, None, None, None, None, None, None]\n"
     ]
    }
   ],
   "source": [
    "# Simple representation of 11 empty slots (0 to 10):\n",
    "mylist = [None for number in range(11)]\n",
    "\n",
    "print(mylist)"
   ]
  },
  {
   "cell_type": "code",
   "execution_count": 11,
   "id": "43120125-006e-4ff7-832b-f9059994342a",
   "metadata": {},
   "outputs": [
    {
     "name": "stdout",
     "output_type": "stream",
     "text": [
      "10\n"
     ]
    }
   ],
   "source": [
    "remainder = 54%11\n",
    "\n",
    "print(remainder)"
   ]
  },
  {
   "cell_type": "code",
   "execution_count": 12,
   "id": "dcf42448-2a12-4626-9d7f-e95f884f669f",
   "metadata": {},
   "outputs": [
    {
     "name": "stdout",
     "output_type": "stream",
     "text": [
      "4\n"
     ]
    }
   ],
   "source": [
    "# 239 321 9822\n",
    "\n",
    "mytuple = (23, 93, 21, 98, 22)\n",
    "\n",
    "\n",
    "remainder = sum(mytuple)%11\n",
    "\n",
    "print(remainder)"
   ]
  },
  {
   "cell_type": "code",
   "execution_count": 13,
   "id": "cac21f18-e2c6-4aef-b62e-d65672370ca9",
   "metadata": {},
   "outputs": [
    {
     "name": "stdout",
     "output_type": "stream",
     "text": [
      "1936\n",
      "5\n"
     ]
    }
   ],
   "source": [
    "\n",
    "square = 44**2\n",
    "\n",
    "print(square)\n",
    "print(93%11)"
   ]
  },
  {
   "cell_type": "markdown",
   "id": "5782c7af-691d-493f-ad29-36ede8f3e36f",
   "metadata": {},
   "source": [
    "# Hash Functions\n",
    "```\n",
    "[ ITEM ] [ REMAINDER ] [ MID-SQUARE ]\n",
    "    54         10            03\n",
    "    26         04            07\n",
    "    77         00            04"
   ]
  },
  {
   "cell_type": "code",
   "execution_count": 14,
   "id": "43aa6e79-8a95-40b8-b6f7-c0a2403a244e",
   "metadata": {},
   "outputs": [
    {
     "name": "stdout",
     "output_type": "stream",
     "text": [
      "4\n"
     ]
    }
   ],
   "source": [
    "# What if we wanted to has the string \"cat\"?\n",
    "cat_values = (ord(\"c\"), ord(\"a\"), ord(\"t\"))\n",
    "print(sum(cat_values)%11)"
   ]
  },
  {
   "cell_type": "code",
   "execution_count": 15,
   "id": "605a8ee4-7df1-49cf-accd-35649f927651",
   "metadata": {},
   "outputs": [],
   "source": [
    "# Open addressing\n",
    "#Linear probing\n",
    "#Quadratic probing"
   ]
  },
  {
   "cell_type": "code",
   "execution_count": 19,
   "id": "faa25f84-c892-4532-8f6e-c125179a3662",
   "metadata": {},
   "outputs": [],
   "source": [
    "# HashTable eaxmple\n",
    "\n",
    "class HashTable:\n",
    "    def __init__(self, size):\n",
    "        self.size = size\n",
    "        self.slots = [None] * self.size\n",
    "        self.data = [None] * self.size\n",
    "\n",
    "    def put(self, key, data):\n",
    "        hashvalue = self.hashfunction(key, len(self.slots))\n",
    "\n",
    "    # if slots are empty:\n",
    "        if self.slots[hashvalue] == None:\n",
    "            self.slots[hashvalue] = key\n",
    "            self.slots[hashvalue] = data\n",
    "\n",
    "        else:\n",
    "            if self.slots[hashvalue] == key:\n",
    "                self.data[hashvalue] = data\n",
    "            else:\n",
    "                nextslot = rehash(hashvalue, len(self.slots))\n",
    "                while self.slots[nextslot] != None and self.slots[nextslot] != key:\n",
    "                    nextslot = self.rehash(nextslot, len(self.slots))\n",
    "                if self.slots[nextslot] == None:\n",
    "                    self.slot[nextslot] = key\n",
    "                    self.slot[nextslot] = data\n",
    "                else:\n",
    "                    self.data[nextslot] = data\n",
    "\n",
    "    def hashfunction(self, key, size):\n",
    "        return key%size\n",
    "\n",
    "    def rehash(self, oldhash, size):\n",
    "        return (oldhash+1)%size\n",
    "\n",
    "    def get(self, key):\n",
    "        startslot = self.hashfunction(key, len(self.slots))\n",
    "        data = None\n",
    "        stop = False\n",
    "        found = False\n",
    "        position = startslot\n",
    "        while self.slots[position] != None and not found and not stop:\n",
    "            if self.slots[position] == key:\n",
    "                found = True\n",
    "                data = self.data[position]\n",
    "            else:\n",
    "                position = self.rehash(position, len(self.slots))\n",
    "                if position == startslot:\n",
    "                    stop = True\n",
    "        return data\n",
    "\n",
    "    def __getitem__(self, key):         # ht[5] (this is getitem of 5)\n",
    "        returnself.get(key)\n",
    "\n",
    "    def __setitem__(self, key, data):  # ht[5] = \"cat\"\n",
    "        self.put(key, data)            "
   ]
  },
  {
   "cell_type": "code",
   "execution_count": null,
   "id": "de43b934-62c7-442a-bc1a-ecc7e43cd114",
   "metadata": {},
   "outputs": [],
   "source": []
  }
 ],
 "metadata": {
  "kernelspec": {
   "display_name": "Python 3 (ipykernel)",
   "language": "python",
   "name": "python3"
  },
  "language_info": {
   "codemirror_mode": {
    "name": "ipython",
    "version": 3
   },
   "file_extension": ".py",
   "mimetype": "text/x-python",
   "name": "python",
   "nbconvert_exporter": "python",
   "pygments_lexer": "ipython3",
   "version": "3.10.12"
  }
 },
 "nbformat": 4,
 "nbformat_minor": 5
}
