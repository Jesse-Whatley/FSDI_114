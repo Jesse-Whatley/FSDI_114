{
 "cells": [
  {
   "cell_type": "code",
   "execution_count": 1,
   "id": "fac31b56-af12-4b2c-ad41-527ebfdaa392",
   "metadata": {},
   "outputs": [
    {
     "name": "stdout",
     "output_type": "stream",
     "text": [
      "h\n",
      "e\n",
      "l\n",
      "l\n",
      "o\n",
      ",\n",
      " \n",
      "w\n",
      "o\n",
      "r\n",
      "l\n",
      "d\n"
     ]
    }
   ],
   "source": [
    "for char in \"hello, world\":\n",
    "    print(char)"
   ]
  },
  {
   "cell_type": "markdown",
   "id": "509fc896-55ff-431d-b061-460f9ed58911",
   "metadata": {},
   "source": [
    "# Problem 1\n",
    "## Anagram Check\n",
    "Create a function, called `anagram_check` that takes two strings as parameters and returns True if these are anagrams of each othre, and False otherwise.\n",
    "\n",
    "### Criteria\n",
    "Two strings are said to be *anagrams* of each other if all the criteria below are met:\n",
    "1. They must contain the same amount of letters.\n",
    "2. They must use the same letters the same amount of times.\n",
    "\n",
    "### Examples\n",
    "```\n",
    "heart and earth\n",
    "scar and cars\n",
    "rats and star\n",
    "aabb and baba\n",
    "```"
   ]
  },
  {
   "cell_type": "markdown",
   "id": "b31272c0-ecc9-4dee-b2ad-c88c1bdec189",
   "metadata": {},
   "source": [
    "# Pseudocode for problem 1 (one possible solution)\n",
    "```\n",
    "define function \"anagram_check\" which recieves string1 and string2 as parameters:\n",
    "    string1 = string1 without spaces and in lower case\n",
    "    string2 = string2 without spaces and in lower case\n",
    "    if string1 and string2 anot equal length:\n",
    "        return False\n",
    "    dict1 = new dictionary\n",
    "    dict2 = new dictionary\n",
    "    for each \"number\" in the range between 0 and the length of string1:\n",
    "        if the character at position \"number\" in string1 is in dict1:\n",
    "            add 1 to the value associated with that character # this represents how many times we've seen that character\n",
    "        else:\n",
    "            create a new dictionary entry with the character at position \"number\"setting its value to 1\n",
    "        if the character at position \"number\" in string2 is in dict2:\n",
    "            add 1 to the value associated with that character # this represents how many times we've seen that character\n",
    "        else:\n",
    "            create a new dictionary entry with the character at position \"number\"setting its value to 1\n",
    "    if dict1 is equal to dict2:\n",
    "        return True\n",
    "    otherwise:\n",
    "        return False\n",
    "```"
   ]
  },
  {
   "cell_type": "code",
   "execution_count": 1,
   "id": "a603ed95-5f9c-4cd8-bce3-9e561ad492b7",
   "metadata": {},
   "outputs": [
    {
     "name": "stdout",
     "output_type": "stream",
     "text": [
      "True\n"
     ]
    }
   ],
   "source": [
    "def anagram_check(string1, string2):\n",
    "    string1 = string1.replace(\" \",\"\").lower()\n",
    "    string2 = string2.replace(\" \",\"\").lower()\n",
    "    if len(string1) != len(string2):\n",
    "        return False\n",
    "    dict1 = {}\n",
    "    dict2 = {}\n",
    "    for num in range(len(string1)):\n",
    "        if string1[num] in dict1:\n",
    "            dict1[string1[num]] +=1\n",
    "        else:\n",
    "            dict1[string1[num]] = 1\n",
    "        if string2[num] in dict2:\n",
    "            dict2[string2[num]] += 1\n",
    "        else:\n",
    "            dict2[string2[num]] = 1\n",
    "    \n",
    "    return dict1 == dict2\n",
    "\n",
    "print(anagram_check(\"heart\", \"earth\"))\n",
    "    \n"
   ]
  },
  {
   "cell_type": "code",
   "execution_count": null,
   "id": "68160a52",
   "metadata": {},
   "outputs": [],
   "source": []
  }
 ],
 "metadata": {
  "kernelspec": {
   "display_name": "Python 3 (ipykernel)",
   "language": "python",
   "name": "python3"
  },
  "language_info": {
   "codemirror_mode": {
    "name": "ipython",
    "version": 3
   },
   "file_extension": ".py",
   "mimetype": "text/x-python",
   "name": "python",
   "nbconvert_exporter": "python",
   "pygments_lexer": "ipython3",
   "version": "3.10.12"
  }
 },
 "nbformat": 4,
 "nbformat_minor": 5
}
